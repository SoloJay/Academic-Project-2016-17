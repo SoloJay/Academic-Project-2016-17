{
 "cells": [
  {
   "cell_type": "markdown",
   "metadata": {},
   "source": [
    "# TWITTER DATA AND SENTIMENT ANALYSIS"
   ]
  },
  {
   "cell_type": "markdown",
   "metadata": {},
   "source": [
    "Using Twitter API to download tweets for data analysis. To have access, I made an application to Twitter as a developer\n",
    "to get access to tokens or access codes, which serves as a unique identifier. Large parts of the code was sourced online\n",
    "and the remaining parts where learnt codes from laboratory and courseworks."
   ]
  },
  {
   "cell_type": "markdown",
   "metadata": {},
   "source": [
    "# SECTION A"
   ]
  },
  {
   "cell_type": "markdown",
   "metadata": {},
   "source": [
    "This section shows the steps taken to download tweets and store them in a dataframe for analsyis."
   ]
  },
  {
   "cell_type": "code",
   "execution_count": 224,
   "metadata": {
    "collapsed": true,
    "deletable": true,
    "editable": true
   },
   "outputs": [],
   "source": [
    "#importing modules \n",
    "import pandas as pd\n",
    "import numpy as np\n",
    "import matplotlib.pyplot as plt\n",
    "%matplotlib inline\n",
    "import re\n",
    "from matplotlib import rcParams\n",
    "import seaborn as sns"
   ]
  },
  {
   "cell_type": "code",
   "execution_count": 3,
   "metadata": {
    "collapsed": true,
    "deletable": true,
    "editable": true
   },
   "outputs": [],
   "source": [
    "#importing modules\n",
    "import tweepy\n",
    "from tweepy import OAuthHandler\n",
    "import json"
   ]
  },
  {
   "cell_type": "code",
   "execution_count": 4,
   "metadata": {
    "collapsed": false,
    "deletable": true,
    "editable": true
   },
   "outputs": [],
   "source": [
    "#importing modules\n",
    "import sys\n",
    "import urllib\n",
    "import simplejson\n",
    "import sqlite3"
   ]
  },
  {
   "cell_type": "code",
   "execution_count": 5,
   "metadata": {
    "collapsed": true,
    "deletable": true,
    "editable": true
   },
   "outputs": [],
   "source": [
    "#importing modules\n",
    "import time\n",
    "import datetime\n",
    "from pprint import pprint\n",
    "from sqlalchemy.sql import join\n",
    "from types import *\n",
    "from datetime import datetime, date, time\n",
    "from sqlalchemy import DECIMAL\n",
    "from sqlalchemy import Unicode"
   ]
  },
  {
   "cell_type": "code",
   "execution_count": 6,
   "metadata": {
    "collapsed": false,
    "deletable": true,
    "editable": true
   },
   "outputs": [],
   "source": [
    "#importing modules\n",
    "import sqlalchemy\n",
    "from sqlalchemy.orm import mapper, sessionmaker\n",
    "from sqlalchemy import Column, Integer, String, ForeignKey, Text, DateTime, Float\n",
    "from sqlalchemy.ext.declarative import declarative_base\n",
    "from sqlalchemy import Unicode #\n",
    "from sqlalchemy import Text #"
   ]
  },
  {
   "cell_type": "markdown",
   "metadata": {
    "deletable": true,
    "editable": true
   },
   "source": [
    "source code credit: http://social-metrics.org/downloading-tweets-with-a-specific-hashtag/"
   ]
  },
  {
   "cell_type": "code",
   "execution_count": null,
   "metadata": {
    "collapsed": true,
    "deletable": true,
    "editable": true
   },
   "outputs": [],
   "source": [
    "#Assigning tokens to variable names and instantiating the objects\n",
    "consumer_key = 'WdagTkoOMp5KTzyr4QjRyahnR'\n",
    "consumer_secret = 'xdeokP6SVnjQtHRAiacbq5sHYpzaeIfSb9oB7sBfcjQEbcgBzu'\n",
    "access_token = '595352929-BPmjSfst545vv3jjM6FEcEh2oqfEDaMJZWh6XBmf'\n",
    "access_secret = 'hHTNg1ORCKPwKdEP0Ng3h3g16ORz45Oug4Aw9rLZKBLas'\n",
    "#tweepy uses OAuthHandler to authenticate the tokens given as stated above \n",
    "auth = OAuthHandler(consumer_key, consumer_secret)\n",
    "auth.set_access_token(access_token, access_secret)\n",
    "#tweepy.API() provides a wrapper for the API so that it can be use defined functions for tweet downloads\n",
    "api = tweepy.API(auth,wait_on_rate_limit=True,wait_on_rate_limit_notify=True)"
   ]
  },
  {
   "cell_type": "code",
   "execution_count": 14,
   "metadata": {
    "collapsed": true,
    "deletable": true,
    "editable": true
   },
   "outputs": [],
   "source": [
    "#importing modules\n",
    "from tweepy import Stream\n",
    "from tweepy.streaming import StreamListener"
   ]
  },
  {
   "cell_type": "code",
   "execution_count": 17,
   "metadata": {
    "collapsed": true,
    "deletable": true,
    "editable": true
   },
   "outputs": [],
   "source": [
    "#importing modules\n",
    "from tweepy import Cursor\n",
    "import time\n",
    "import pandas as pd"
   ]
  },
  {
   "cell_type": "code",
   "execution_count": 18,
   "metadata": {
    "collapsed": true,
    "deletable": true,
    "editable": true
   },
   "outputs": [],
   "source": [
    "#setting maximum tweets to download per session time\n",
    "MAX_TWEETS = 100000"
   ]
  },
  {
   "cell_type": "code",
   "execution_count": 95,
   "metadata": {
    "collapsed": false,
    "deletable": true,
    "editable": true
   },
   "outputs": [],
   "source": [
    "#The cursor construct helps in pagination int Twitter API. It does all the hard work behind the scenes. The cursor\n",
    "#iterates through timelines, user lists, and direct messages. The search criteria here is London and/or West End, and\n",
    "#also removing retweets as it will inflate the number of tweets \n",
    "data = Cursor(api.search,q= \"london OR #westend -RT\").items(MAX_TWEETS)"
   ]
  },
  {
   "cell_type": "markdown",
   "metadata": {},
   "source": [
    "Twitter has download rate limit set for each developer, so developers can only download streams of tweets for a\n",
    "particular time in a day. This limit is set for tweets sent within couple of hours. Once the limit is reached, the \n",
    "automatically shuts down (sleeps if set as such), and then after some minutes, the developer can make another call. I have to interrupt the kernel (shown below as keyboard interrupt) in order to print output of tweets downloaded. "
   ]
  },
  {
   "cell_type": "code",
   "execution_count": 91,
   "metadata": {
    "collapsed": false,
    "deletable": true,
    "editable": true
   },
   "outputs": [
    {
     "name": "stdout",
     "output_type": "stream",
     "text": [
      "Rate limit reached. Sleeping for: 811\n"
     ]
    },
    {
     "ename": "KeyboardInterrupt",
     "evalue": "",
     "output_type": "error",
     "traceback": [
      "\u001b[0;31m---------------------------------------------------------------------------\u001b[0m",
      "\u001b[0;31mKeyboardInterrupt\u001b[0m                         Traceback (most recent call last)",
      "\u001b[0;32m<ipython-input-91-d4a1bfe1423e>\u001b[0m in \u001b[0;36m<module>\u001b[0;34m()\u001b[0m\n\u001b[1;32m      5\u001b[0m \u001b[0mlog_tweets\u001b[0m \u001b[0;34m=\u001b[0m \u001b[0mcurrent_working_dir\u001b[0m  \u001b[0;34m+\u001b[0m \u001b[0mstr\u001b[0m\u001b[0;34m(\u001b[0m\u001b[0mtime\u001b[0m\u001b[0;34m.\u001b[0m\u001b[0mtime\u001b[0m\u001b[0;34m(\u001b[0m\u001b[0;34m)\u001b[0m\u001b[0;34m)\u001b[0m \u001b[0;34m+\u001b[0m \u001b[0;34m'_westend_tweets.txt'\u001b[0m\u001b[0;34m\u001b[0m\u001b[0m\n\u001b[1;32m      6\u001b[0m \u001b[0;32mwith\u001b[0m \u001b[0mopen\u001b[0m\u001b[0;34m(\u001b[0m\u001b[0mlog_tweets\u001b[0m\u001b[0;34m,\u001b[0m \u001b[0;34m'w'\u001b[0m\u001b[0;34m)\u001b[0m \u001b[0;32mas\u001b[0m \u001b[0moutfile\u001b[0m\u001b[0;34m:\u001b[0m\u001b[0;34m\u001b[0m\u001b[0m\n\u001b[0;32m----> 7\u001b[0;31m     \u001b[0;32mfor\u001b[0m \u001b[0mtweet\u001b[0m \u001b[0;32min\u001b[0m \u001b[0mdata\u001b[0m\u001b[0;34m:\u001b[0m\u001b[0;34m\u001b[0m\u001b[0m\n\u001b[0m\u001b[1;32m      8\u001b[0m         \u001b[0mwest_end_first\u001b[0m\u001b[0;34m.\u001b[0m\u001b[0mappend\u001b[0m\u001b[0;34m(\u001b[0m\u001b[0mjson\u001b[0m\u001b[0;34m.\u001b[0m\u001b[0mloads\u001b[0m\u001b[0;34m(\u001b[0m\u001b[0mjson\u001b[0m\u001b[0;34m.\u001b[0m\u001b[0mdumps\u001b[0m\u001b[0;34m(\u001b[0m\u001b[0mtweet\u001b[0m\u001b[0;34m.\u001b[0m\u001b[0m_json\u001b[0m\u001b[0;34m)\u001b[0m\u001b[0;34m)\u001b[0m\u001b[0;34m)\u001b[0m\u001b[0;34m\u001b[0m\u001b[0m\n\u001b[1;32m      9\u001b[0m         \u001b[0moutfile\u001b[0m\u001b[0;34m.\u001b[0m\u001b[0mwrite\u001b[0m\u001b[0;34m(\u001b[0m\u001b[0mjson\u001b[0m\u001b[0;34m.\u001b[0m\u001b[0mdumps\u001b[0m\u001b[0;34m(\u001b[0m\u001b[0mtweet\u001b[0m\u001b[0;34m.\u001b[0m\u001b[0m_json\u001b[0m\u001b[0;34m)\u001b[0m\u001b[0;34m)\u001b[0m\u001b[0;34m\u001b[0m\u001b[0m\n",
      "\u001b[0;32m/Library/Frameworks/Python.framework/Versions/2.7/lib/python2.7/site-packages/tweepy/cursor.pyc\u001b[0m in \u001b[0;36mnext\u001b[0;34m(self)\u001b[0m\n\u001b[1;32m    195\u001b[0m         \u001b[0;32mif\u001b[0m \u001b[0mself\u001b[0m\u001b[0;34m.\u001b[0m\u001b[0mcurrent_page\u001b[0m \u001b[0;32mis\u001b[0m \u001b[0mNone\u001b[0m \u001b[0;32mor\u001b[0m \u001b[0mself\u001b[0m\u001b[0;34m.\u001b[0m\u001b[0mpage_index\u001b[0m \u001b[0;34m==\u001b[0m \u001b[0mlen\u001b[0m\u001b[0;34m(\u001b[0m\u001b[0mself\u001b[0m\u001b[0;34m.\u001b[0m\u001b[0mcurrent_page\u001b[0m\u001b[0;34m)\u001b[0m \u001b[0;34m-\u001b[0m \u001b[0;36m1\u001b[0m\u001b[0;34m:\u001b[0m\u001b[0;34m\u001b[0m\u001b[0m\n\u001b[1;32m    196\u001b[0m             \u001b[0;31m# Reached end of current page, get the next page...\u001b[0m\u001b[0;34m\u001b[0m\u001b[0;34m\u001b[0m\u001b[0m\n\u001b[0;32m--> 197\u001b[0;31m             \u001b[0mself\u001b[0m\u001b[0;34m.\u001b[0m\u001b[0mcurrent_page\u001b[0m \u001b[0;34m=\u001b[0m \u001b[0mself\u001b[0m\u001b[0;34m.\u001b[0m\u001b[0mpage_iterator\u001b[0m\u001b[0;34m.\u001b[0m\u001b[0mnext\u001b[0m\u001b[0;34m(\u001b[0m\u001b[0;34m)\u001b[0m\u001b[0;34m\u001b[0m\u001b[0m\n\u001b[0m\u001b[1;32m    198\u001b[0m             \u001b[0mself\u001b[0m\u001b[0;34m.\u001b[0m\u001b[0mpage_index\u001b[0m \u001b[0;34m=\u001b[0m \u001b[0;34m-\u001b[0m\u001b[0;36m1\u001b[0m\u001b[0;34m\u001b[0m\u001b[0m\n\u001b[1;32m    199\u001b[0m         \u001b[0mself\u001b[0m\u001b[0;34m.\u001b[0m\u001b[0mpage_index\u001b[0m \u001b[0;34m+=\u001b[0m \u001b[0;36m1\u001b[0m\u001b[0;34m\u001b[0m\u001b[0m\n",
      "\u001b[0;32m/Library/Frameworks/Python.framework/Versions/2.7/lib/python2.7/site-packages/tweepy/cursor.pyc\u001b[0m in \u001b[0;36mnext\u001b[0;34m(self)\u001b[0m\n\u001b[1;32m    106\u001b[0m \u001b[0;34m\u001b[0m\u001b[0m\n\u001b[1;32m    107\u001b[0m         \u001b[0;32mif\u001b[0m \u001b[0mself\u001b[0m\u001b[0;34m.\u001b[0m\u001b[0mindex\u001b[0m \u001b[0;34m>=\u001b[0m \u001b[0mlen\u001b[0m\u001b[0;34m(\u001b[0m\u001b[0mself\u001b[0m\u001b[0;34m.\u001b[0m\u001b[0mresults\u001b[0m\u001b[0;34m)\u001b[0m \u001b[0;34m-\u001b[0m \u001b[0;36m1\u001b[0m\u001b[0;34m:\u001b[0m\u001b[0;34m\u001b[0m\u001b[0m\n\u001b[0;32m--> 108\u001b[0;31m             \u001b[0mdata\u001b[0m \u001b[0;34m=\u001b[0m \u001b[0mself\u001b[0m\u001b[0;34m.\u001b[0m\u001b[0mmethod\u001b[0m\u001b[0;34m(\u001b[0m\u001b[0mmax_id\u001b[0m\u001b[0;34m=\u001b[0m\u001b[0mself\u001b[0m\u001b[0;34m.\u001b[0m\u001b[0mmax_id\u001b[0m\u001b[0;34m,\u001b[0m \u001b[0mparser\u001b[0m\u001b[0;34m=\u001b[0m\u001b[0mRawParser\u001b[0m\u001b[0;34m(\u001b[0m\u001b[0;34m)\u001b[0m\u001b[0;34m,\u001b[0m \u001b[0;34m*\u001b[0m\u001b[0mself\u001b[0m\u001b[0;34m.\u001b[0m\u001b[0margs\u001b[0m\u001b[0;34m,\u001b[0m \u001b[0;34m**\u001b[0m\u001b[0mself\u001b[0m\u001b[0;34m.\u001b[0m\u001b[0mkargs\u001b[0m\u001b[0;34m)\u001b[0m\u001b[0;34m\u001b[0m\u001b[0m\n\u001b[0m\u001b[1;32m    109\u001b[0m \u001b[0;34m\u001b[0m\u001b[0m\n\u001b[1;32m    110\u001b[0m             \u001b[0;32mif\u001b[0m \u001b[0mhasattr\u001b[0m\u001b[0;34m(\u001b[0m\u001b[0mself\u001b[0m\u001b[0;34m.\u001b[0m\u001b[0mmethod\u001b[0m\u001b[0;34m,\u001b[0m \u001b[0;34m'__self__'\u001b[0m\u001b[0;34m)\u001b[0m\u001b[0;34m:\u001b[0m\u001b[0;34m\u001b[0m\u001b[0m\n",
      "\u001b[0;32m/Library/Frameworks/Python.framework/Versions/2.7/lib/python2.7/site-packages/tweepy/binder.pyc\u001b[0m in \u001b[0;36m_call\u001b[0;34m(*args, **kwargs)\u001b[0m\n\u001b[1;32m    237\u001b[0m             \u001b[0;32mreturn\u001b[0m \u001b[0mmethod\u001b[0m\u001b[0;34m\u001b[0m\u001b[0m\n\u001b[1;32m    238\u001b[0m         \u001b[0;32melse\u001b[0m\u001b[0;34m:\u001b[0m\u001b[0;34m\u001b[0m\u001b[0m\n\u001b[0;32m--> 239\u001b[0;31m             \u001b[0;32mreturn\u001b[0m \u001b[0mmethod\u001b[0m\u001b[0;34m.\u001b[0m\u001b[0mexecute\u001b[0m\u001b[0;34m(\u001b[0m\u001b[0;34m)\u001b[0m\u001b[0;34m\u001b[0m\u001b[0m\n\u001b[0m\u001b[1;32m    240\u001b[0m \u001b[0;34m\u001b[0m\u001b[0m\n\u001b[1;32m    241\u001b[0m     \u001b[0;31m# Set pagination mode\u001b[0m\u001b[0;34m\u001b[0m\u001b[0;34m\u001b[0m\u001b[0m\n",
      "\u001b[0;32m/Library/Frameworks/Python.framework/Versions/2.7/lib/python2.7/site-packages/tweepy/binder.pyc\u001b[0m in \u001b[0;36mexecute\u001b[0;34m(self)\u001b[0m\n\u001b[1;32m    160\u001b[0m                                     \u001b[0;32mif\u001b[0m \u001b[0mself\u001b[0m\u001b[0;34m.\u001b[0m\u001b[0mwait_on_rate_limit_notify\u001b[0m\u001b[0;34m:\u001b[0m\u001b[0;34m\u001b[0m\u001b[0m\n\u001b[1;32m    161\u001b[0m                                         \u001b[0;32mprint\u001b[0m\u001b[0;34m(\u001b[0m\u001b[0;34m\"Rate limit reached. Sleeping for:\"\u001b[0m\u001b[0;34m,\u001b[0m \u001b[0msleep_time\u001b[0m\u001b[0;34m)\u001b[0m\u001b[0;34m\u001b[0m\u001b[0m\n\u001b[0;32m--> 162\u001b[0;31m                                     \u001b[0mtime\u001b[0m\u001b[0;34m.\u001b[0m\u001b[0msleep\u001b[0m\u001b[0;34m(\u001b[0m\u001b[0msleep_time\u001b[0m \u001b[0;34m+\u001b[0m \u001b[0;36m5\u001b[0m\u001b[0;34m)\u001b[0m  \u001b[0;31m# sleep for few extra sec\u001b[0m\u001b[0;34m\u001b[0m\u001b[0m\n\u001b[0m\u001b[1;32m    163\u001b[0m \u001b[0;34m\u001b[0m\u001b[0m\n\u001b[1;32m    164\u001b[0m                 \u001b[0;31m# if self.wait_on_rate_limit and self._reset_time is not None and \\\u001b[0m\u001b[0;34m\u001b[0m\u001b[0;34m\u001b[0m\u001b[0m\n",
      "\u001b[0;31mKeyboardInterrupt\u001b[0m: "
     ]
    }
   ],
   "source": [
    "#creating the first list to store downloaded tweets in json format\n",
    "west_end_first = []\n",
    "#looping through downloaded tweets and converting it to a json format as a stored text\n",
    "current_working_dir = \"./\"\n",
    "log_tweets = current_working_dir  + str(time.time()) + '_westend_tweets.txt'\n",
    "with open(log_tweets, 'w') as outfile:\n",
    "    for tweet in data:\n",
    "        west_end_first.append(json.loads(json.dumps(tweet._json)))\n",
    "        outfile.write(json.dumps(tweet._json))\n",
    "        outfile.write(\"\\n\")"
   ]
  },
  {
   "cell_type": "code",
   "execution_count": 96,
   "metadata": {
    "collapsed": false
   },
   "outputs": [
    {
     "name": "stdout",
     "output_type": "stream",
     "text": [
      "Rate limit reached. Sleeping for: 829\n"
     ]
    },
    {
     "ename": "TweepError",
     "evalue": "Failed to send request: HTTPSConnectionPool(host='api.twitter.com', port=443): Read timed out. (read timeout=60)",
     "output_type": "error",
     "traceback": [
      "\u001b[0;31m---------------------------------------------------------------------------\u001b[0m",
      "\u001b[0;31mTweepError\u001b[0m                                Traceback (most recent call last)",
      "\u001b[0;32m<ipython-input-96-8648cc7deed3>\u001b[0m in \u001b[0;36m<module>\u001b[0;34m()\u001b[0m\n\u001b[1;32m      5\u001b[0m \u001b[0mlog_tweets\u001b[0m \u001b[0;34m=\u001b[0m \u001b[0mcurrent_working_dir\u001b[0m  \u001b[0;34m+\u001b[0m \u001b[0mstr\u001b[0m\u001b[0;34m(\u001b[0m\u001b[0mtime\u001b[0m\u001b[0;34m.\u001b[0m\u001b[0mtime\u001b[0m\u001b[0;34m(\u001b[0m\u001b[0;34m)\u001b[0m\u001b[0;34m)\u001b[0m \u001b[0;34m+\u001b[0m \u001b[0;34m'_westend_tweets.txt'\u001b[0m\u001b[0;34m\u001b[0m\u001b[0m\n\u001b[1;32m      6\u001b[0m \u001b[0;32mwith\u001b[0m \u001b[0mopen\u001b[0m\u001b[0;34m(\u001b[0m\u001b[0mlog_tweets\u001b[0m\u001b[0;34m,\u001b[0m \u001b[0;34m'w'\u001b[0m\u001b[0;34m)\u001b[0m \u001b[0;32mas\u001b[0m \u001b[0moutfile\u001b[0m\u001b[0;34m:\u001b[0m\u001b[0;34m\u001b[0m\u001b[0m\n\u001b[0;32m----> 7\u001b[0;31m     \u001b[0;32mfor\u001b[0m \u001b[0mtweet\u001b[0m \u001b[0;32min\u001b[0m \u001b[0mdata\u001b[0m\u001b[0;34m:\u001b[0m\u001b[0;34m\u001b[0m\u001b[0m\n\u001b[0m\u001b[1;32m      8\u001b[0m         \u001b[0mwest_end_second\u001b[0m\u001b[0;34m.\u001b[0m\u001b[0mappend\u001b[0m\u001b[0;34m(\u001b[0m\u001b[0mjson\u001b[0m\u001b[0;34m.\u001b[0m\u001b[0mloads\u001b[0m\u001b[0;34m(\u001b[0m\u001b[0mjson\u001b[0m\u001b[0;34m.\u001b[0m\u001b[0mdumps\u001b[0m\u001b[0;34m(\u001b[0m\u001b[0mtweet\u001b[0m\u001b[0;34m.\u001b[0m\u001b[0m_json\u001b[0m\u001b[0;34m)\u001b[0m\u001b[0;34m)\u001b[0m\u001b[0;34m)\u001b[0m\u001b[0;34m\u001b[0m\u001b[0m\n\u001b[1;32m      9\u001b[0m         \u001b[0moutfile\u001b[0m\u001b[0;34m.\u001b[0m\u001b[0mwrite\u001b[0m\u001b[0;34m(\u001b[0m\u001b[0mjson\u001b[0m\u001b[0;34m.\u001b[0m\u001b[0mdumps\u001b[0m\u001b[0;34m(\u001b[0m\u001b[0mtweet\u001b[0m\u001b[0;34m.\u001b[0m\u001b[0m_json\u001b[0m\u001b[0;34m)\u001b[0m\u001b[0;34m)\u001b[0m\u001b[0;34m\u001b[0m\u001b[0m\n",
      "\u001b[0;32m/Library/Frameworks/Python.framework/Versions/2.7/lib/python2.7/site-packages/tweepy/cursor.pyc\u001b[0m in \u001b[0;36mnext\u001b[0;34m(self)\u001b[0m\n\u001b[1;32m    195\u001b[0m         \u001b[0;32mif\u001b[0m \u001b[0mself\u001b[0m\u001b[0;34m.\u001b[0m\u001b[0mcurrent_page\u001b[0m \u001b[0;32mis\u001b[0m \u001b[0mNone\u001b[0m \u001b[0;32mor\u001b[0m \u001b[0mself\u001b[0m\u001b[0;34m.\u001b[0m\u001b[0mpage_index\u001b[0m \u001b[0;34m==\u001b[0m \u001b[0mlen\u001b[0m\u001b[0;34m(\u001b[0m\u001b[0mself\u001b[0m\u001b[0;34m.\u001b[0m\u001b[0mcurrent_page\u001b[0m\u001b[0;34m)\u001b[0m \u001b[0;34m-\u001b[0m \u001b[0;36m1\u001b[0m\u001b[0;34m:\u001b[0m\u001b[0;34m\u001b[0m\u001b[0m\n\u001b[1;32m    196\u001b[0m             \u001b[0;31m# Reached end of current page, get the next page...\u001b[0m\u001b[0;34m\u001b[0m\u001b[0;34m\u001b[0m\u001b[0m\n\u001b[0;32m--> 197\u001b[0;31m             \u001b[0mself\u001b[0m\u001b[0;34m.\u001b[0m\u001b[0mcurrent_page\u001b[0m \u001b[0;34m=\u001b[0m \u001b[0mself\u001b[0m\u001b[0;34m.\u001b[0m\u001b[0mpage_iterator\u001b[0m\u001b[0;34m.\u001b[0m\u001b[0mnext\u001b[0m\u001b[0;34m(\u001b[0m\u001b[0;34m)\u001b[0m\u001b[0;34m\u001b[0m\u001b[0m\n\u001b[0m\u001b[1;32m    198\u001b[0m             \u001b[0mself\u001b[0m\u001b[0;34m.\u001b[0m\u001b[0mpage_index\u001b[0m \u001b[0;34m=\u001b[0m \u001b[0;34m-\u001b[0m\u001b[0;36m1\u001b[0m\u001b[0;34m\u001b[0m\u001b[0m\n\u001b[1;32m    199\u001b[0m         \u001b[0mself\u001b[0m\u001b[0;34m.\u001b[0m\u001b[0mpage_index\u001b[0m \u001b[0;34m+=\u001b[0m \u001b[0;36m1\u001b[0m\u001b[0;34m\u001b[0m\u001b[0m\n",
      "\u001b[0;32m/Library/Frameworks/Python.framework/Versions/2.7/lib/python2.7/site-packages/tweepy/cursor.pyc\u001b[0m in \u001b[0;36mnext\u001b[0;34m(self)\u001b[0m\n\u001b[1;32m    106\u001b[0m \u001b[0;34m\u001b[0m\u001b[0m\n\u001b[1;32m    107\u001b[0m         \u001b[0;32mif\u001b[0m \u001b[0mself\u001b[0m\u001b[0;34m.\u001b[0m\u001b[0mindex\u001b[0m \u001b[0;34m>=\u001b[0m \u001b[0mlen\u001b[0m\u001b[0;34m(\u001b[0m\u001b[0mself\u001b[0m\u001b[0;34m.\u001b[0m\u001b[0mresults\u001b[0m\u001b[0;34m)\u001b[0m \u001b[0;34m-\u001b[0m \u001b[0;36m1\u001b[0m\u001b[0;34m:\u001b[0m\u001b[0;34m\u001b[0m\u001b[0m\n\u001b[0;32m--> 108\u001b[0;31m             \u001b[0mdata\u001b[0m \u001b[0;34m=\u001b[0m \u001b[0mself\u001b[0m\u001b[0;34m.\u001b[0m\u001b[0mmethod\u001b[0m\u001b[0;34m(\u001b[0m\u001b[0mmax_id\u001b[0m\u001b[0;34m=\u001b[0m\u001b[0mself\u001b[0m\u001b[0;34m.\u001b[0m\u001b[0mmax_id\u001b[0m\u001b[0;34m,\u001b[0m \u001b[0mparser\u001b[0m\u001b[0;34m=\u001b[0m\u001b[0mRawParser\u001b[0m\u001b[0;34m(\u001b[0m\u001b[0;34m)\u001b[0m\u001b[0;34m,\u001b[0m \u001b[0;34m*\u001b[0m\u001b[0mself\u001b[0m\u001b[0;34m.\u001b[0m\u001b[0margs\u001b[0m\u001b[0;34m,\u001b[0m \u001b[0;34m**\u001b[0m\u001b[0mself\u001b[0m\u001b[0;34m.\u001b[0m\u001b[0mkargs\u001b[0m\u001b[0;34m)\u001b[0m\u001b[0;34m\u001b[0m\u001b[0m\n\u001b[0m\u001b[1;32m    109\u001b[0m \u001b[0;34m\u001b[0m\u001b[0m\n\u001b[1;32m    110\u001b[0m             \u001b[0;32mif\u001b[0m \u001b[0mhasattr\u001b[0m\u001b[0;34m(\u001b[0m\u001b[0mself\u001b[0m\u001b[0;34m.\u001b[0m\u001b[0mmethod\u001b[0m\u001b[0;34m,\u001b[0m \u001b[0;34m'__self__'\u001b[0m\u001b[0;34m)\u001b[0m\u001b[0;34m:\u001b[0m\u001b[0;34m\u001b[0m\u001b[0m\n",
      "\u001b[0;32m/Library/Frameworks/Python.framework/Versions/2.7/lib/python2.7/site-packages/tweepy/binder.pyc\u001b[0m in \u001b[0;36m_call\u001b[0;34m(*args, **kwargs)\u001b[0m\n\u001b[1;32m    237\u001b[0m             \u001b[0;32mreturn\u001b[0m \u001b[0mmethod\u001b[0m\u001b[0;34m\u001b[0m\u001b[0m\n\u001b[1;32m    238\u001b[0m         \u001b[0;32melse\u001b[0m\u001b[0;34m:\u001b[0m\u001b[0;34m\u001b[0m\u001b[0m\n\u001b[0;32m--> 239\u001b[0;31m             \u001b[0;32mreturn\u001b[0m \u001b[0mmethod\u001b[0m\u001b[0;34m.\u001b[0m\u001b[0mexecute\u001b[0m\u001b[0;34m(\u001b[0m\u001b[0;34m)\u001b[0m\u001b[0;34m\u001b[0m\u001b[0m\n\u001b[0m\u001b[1;32m    240\u001b[0m \u001b[0;34m\u001b[0m\u001b[0m\n\u001b[1;32m    241\u001b[0m     \u001b[0;31m# Set pagination mode\u001b[0m\u001b[0;34m\u001b[0m\u001b[0;34m\u001b[0m\u001b[0m\n",
      "\u001b[0;32m/Library/Frameworks/Python.framework/Versions/2.7/lib/python2.7/site-packages/tweepy/binder.pyc\u001b[0m in \u001b[0;36mexecute\u001b[0;34m(self)\u001b[0m\n\u001b[1;32m    187\u001b[0m                                                 proxies=self.api.proxy)\n\u001b[1;32m    188\u001b[0m                 \u001b[0;32mexcept\u001b[0m \u001b[0mException\u001b[0m \u001b[0;32mas\u001b[0m \u001b[0me\u001b[0m\u001b[0;34m:\u001b[0m\u001b[0;34m\u001b[0m\u001b[0m\n\u001b[0;32m--> 189\u001b[0;31m                     \u001b[0;32mraise\u001b[0m \u001b[0mTweepError\u001b[0m\u001b[0;34m(\u001b[0m\u001b[0;34m'Failed to send request: %s'\u001b[0m \u001b[0;34m%\u001b[0m \u001b[0me\u001b[0m\u001b[0;34m)\u001b[0m\u001b[0;34m\u001b[0m\u001b[0m\n\u001b[0m\u001b[1;32m    190\u001b[0m                 \u001b[0mrem_calls\u001b[0m \u001b[0;34m=\u001b[0m \u001b[0mresp\u001b[0m\u001b[0;34m.\u001b[0m\u001b[0mheaders\u001b[0m\u001b[0;34m.\u001b[0m\u001b[0mget\u001b[0m\u001b[0;34m(\u001b[0m\u001b[0;34m'x-rate-limit-remaining'\u001b[0m\u001b[0;34m)\u001b[0m\u001b[0;34m\u001b[0m\u001b[0m\n\u001b[1;32m    191\u001b[0m                 \u001b[0;32mif\u001b[0m \u001b[0mrem_calls\u001b[0m \u001b[0;32mis\u001b[0m \u001b[0;32mnot\u001b[0m \u001b[0mNone\u001b[0m\u001b[0;34m:\u001b[0m\u001b[0;34m\u001b[0m\u001b[0m\n",
      "\u001b[0;31mTweepError\u001b[0m: Failed to send request: HTTPSConnectionPool(host='api.twitter.com', port=443): Read timed out. (read timeout=60)"
     ]
    }
   ],
   "source": [
    "#creating the second list to store downloaded tweets in json format\n",
    "west_end_second = []\n",
    "#looping through downloaded tweets and converting it to a json format as a stored text    \n",
    "current_working_dir = \"./\"\n",
    "log_tweets = current_working_dir  + str(time.time()) + '_westend_tweets.txt'\n",
    "with open(log_tweets, 'w') as outfile:\n",
    "    for tweet in data:\n",
    "        west_end_second.append(json.loads(json.dumps(tweet._json)))\n",
    "        outfile.write(json.dumps(tweet._json))\n",
    "        outfile.write(\"\\n\")"
   ]
  },
  {
   "cell_type": "code",
   "execution_count": 92,
   "metadata": {
    "collapsed": false,
    "deletable": true,
    "editable": true
   },
   "outputs": [
    {
     "data": {
      "text/plain": [
       "2638"
      ]
     },
     "execution_count": 92,
     "metadata": {},
     "output_type": "execute_result"
    }
   ],
   "source": [
    "#printing the length of first downloaded tweets\n",
    "len(west_end_first)"
   ]
  },
  {
   "cell_type": "code",
   "execution_count": 97,
   "metadata": {
    "collapsed": false
   },
   "outputs": [
    {
     "data": {
      "text/plain": [
       "2651"
      ]
     },
     "execution_count": 97,
     "metadata": {},
     "output_type": "execute_result"
    }
   ],
   "source": [
    "#printing the length of second downloaded tweets\n",
    "len(west_end_second)"
   ]
  },
  {
   "cell_type": "markdown",
   "metadata": {
    "deletable": true,
    "editable": true
   },
   "source": [
    "source code credit: http://adilmoujahid.com/posts/2014/07/twitter-analytics/"
   ]
  },
  {
   "cell_type": "markdown",
   "metadata": {},
   "source": [
    "Since the tweets are stored in json format, we can call the keys to extract the values to use for our purposes. I \n",
    "created a dataframe using Pandas to contain date of tweet, user, text, language tweet sent in, location of tweet, retweets and \n",
    "coordinates. Because I have two separate json files from two batches of download done, I created two dataframes and \n",
    "joined them as a single dataframe."
   ]
  },
  {
   "cell_type": "code",
   "execution_count": 93,
   "metadata": {
    "collapsed": false,
    "deletable": true,
    "editable": true
   },
   "outputs": [],
   "source": [
    "# creating first dataframe\n",
    "tweets1 = pd.DataFrame()\n",
    "# We want to know when a tweet was sent\n",
    "tweets1['created_at'] = map(lambda tweet: time.strftime('%Y-%m-%d %H:%M:%S', time.strptime(tweet['created_at'],'%a %b %d %H:%M:%S +0000 %Y')), west_end_first)\n",
    "# Who is the tweet owner\n",
    "tweets1['user'] = map(lambda tweet: tweet['user']['screen_name'], west_end_first)\n",
    "# How many follower this user has\n",
    "#tweets['user_followers_count'] = map(lambda tweet: tweet['user']['followers_count'], west_end)\n",
    "# What is the tweet's content\n",
    "tweets1['text'] = map(lambda tweet: tweet['text'].encode('utf-8'), west_end_first)\n",
    "# If available what is the language the tweet is written in\n",
    "tweets1['lang'] = map(lambda tweet: tweet['lang'], west_end_first)\n",
    "# If available, where was the tweet sent from ?\n",
    "tweets1['Location'] = map(lambda tweet: tweet['place']['country'] if tweet['place'] != None else None, west_end_first)\n",
    "# How many times this tweet was retweeted and favorited\n",
    "tweets1['retweet_count'] = map(lambda tweet: tweet['retweet_count'], west_end_first)\n",
    "#tweets['favorite_count'] = map(lambda tweet: tweet['favorite_count'], west_end)\n",
    "tweets1['coordinates'] = map(lambda tweet: tweet['coordinates'], west_end_first)"
   ]
  },
  {
   "cell_type": "code",
   "execution_count": 98,
   "metadata": {
    "collapsed": true
   },
   "outputs": [],
   "source": [
    "# creating second dataframe\n",
    "tweets2 = pd.DataFrame()\n",
    "# We want to know when a tweet was sent\n",
    "tweets2['created_at'] = map(lambda tweet: time.strftime('%Y-%m-%d %H:%M:%S', time.strptime(tweet['created_at'],'%a %b %d %H:%M:%S +0000 %Y')), west_end_second)\n",
    "# Who is the tweet owner\n",
    "tweets2['user'] = map(lambda tweet: tweet['user']['screen_name'], west_end_second)\n",
    "# How many follower this user has\n",
    "#tweets['user_followers_count'] = map(lambda tweet: tweet['user']['followers_count'], west_end)\n",
    "# What is the tweet's content\n",
    "tweets2['text'] = map(lambda tweet: tweet['text'].encode('utf-8'), west_end_second)\n",
    "# If available what is the language the tweet is written in\n",
    "tweets2['lang'] = map(lambda tweet: tweet['lang'], west_end_second)\n",
    "# If available, where was the tweet sent from ?\n",
    "tweets2['Location'] = map(lambda tweet: tweet['place']['country'] if tweet['place'] != None else None, west_end_second)\n",
    "# How many times this tweet was retweeted and favorited\n",
    "tweets2['retweet_count'] = map(lambda tweet: tweet['retweet_count'], west_end_second)\n",
    "#tweets['favorite_count'] = map(lambda tweet: tweet['favorite_count'], west_end)\n",
    "tweets2['coordinates'] = map(lambda tweet: tweet['coordinates'], west_end_second)"
   ]
  },
  {
   "cell_type": "code",
   "execution_count": 103,
   "metadata": {
    "collapsed": false,
    "deletable": true,
    "editable": true
   },
   "outputs": [
    {
     "data": {
      "text/html": [
       "<div>\n",
       "<table border=\"1\" class=\"dataframe\">\n",
       "  <thead>\n",
       "    <tr style=\"text-align: right;\">\n",
       "      <th></th>\n",
       "      <th>created_at</th>\n",
       "      <th>user</th>\n",
       "      <th>text</th>\n",
       "      <th>lang</th>\n",
       "      <th>Location</th>\n",
       "      <th>retweet_count</th>\n",
       "      <th>coordinates</th>\n",
       "    </tr>\n",
       "  </thead>\n",
       "  <tbody>\n",
       "    <tr>\n",
       "      <th>0</th>\n",
       "      <td>2017-08-17 19:08:44</td>\n",
       "      <td>pjj5nqWrdajjbuc</td>\n",
       "      <td>#girl #london exotic #nudes #sex naked #amateu...</td>\n",
       "      <td>en</td>\n",
       "      <td>None</td>\n",
       "      <td>0</td>\n",
       "      <td>None</td>\n",
       "    </tr>\n",
       "  </tbody>\n",
       "</table>\n",
       "</div>"
      ],
      "text/plain": [
       "            created_at             user  \\\n",
       "0  2017-08-17 19:08:44  pjj5nqWrdajjbuc   \n",
       "\n",
       "                                                text lang Location  \\\n",
       "0  #girl #london exotic #nudes #sex naked #amateu...   en     None   \n",
       "\n",
       "   retweet_count coordinates  \n",
       "0              0        None  "
      ]
     },
     "execution_count": 103,
     "metadata": {},
     "output_type": "execute_result"
    }
   ],
   "source": [
    "#checking the contents of the dataframe\n",
    "tweets1.head(1)"
   ]
  },
  {
   "cell_type": "code",
   "execution_count": 104,
   "metadata": {
    "collapsed": false
   },
   "outputs": [
    {
     "data": {
      "text/html": [
       "<div>\n",
       "<table border=\"1\" class=\"dataframe\">\n",
       "  <thead>\n",
       "    <tr style=\"text-align: right;\">\n",
       "      <th></th>\n",
       "      <th>created_at</th>\n",
       "      <th>user</th>\n",
       "      <th>text</th>\n",
       "      <th>lang</th>\n",
       "      <th>Location</th>\n",
       "      <th>retweet_count</th>\n",
       "      <th>coordinates</th>\n",
       "    </tr>\n",
       "  </thead>\n",
       "  <tbody>\n",
       "    <tr>\n",
       "      <th>0</th>\n",
       "      <td>2017-08-17 20:32:35</td>\n",
       "      <td>Niki_London</td>\n",
       "      <td>I need this set https://t.co/7M1yowQfzz</td>\n",
       "      <td>en</td>\n",
       "      <td>Antigua and Barbuda</td>\n",
       "      <td>0</td>\n",
       "      <td>None</td>\n",
       "    </tr>\n",
       "  </tbody>\n",
       "</table>\n",
       "</div>"
      ],
      "text/plain": [
       "            created_at         user                                     text  \\\n",
       "0  2017-08-17 20:32:35  Niki_London  I need this set https://t.co/7M1yowQfzz   \n",
       "\n",
       "  lang             Location  retweet_count coordinates  \n",
       "0   en  Antigua and Barbuda              0        None  "
      ]
     },
     "execution_count": 104,
     "metadata": {},
     "output_type": "execute_result"
    }
   ],
   "source": [
    "#checking the contents of the dataframe \n",
    "tweets2.head(1)"
   ]
  },
  {
   "cell_type": "code",
   "execution_count": 100,
   "metadata": {
    "collapsed": false,
    "deletable": true,
    "editable": true
   },
   "outputs": [],
   "source": [
    "#merging the two dataframes\n",
    "merged_tweets = pd.concat([tweets1,tweets2], axis=0)"
   ]
  },
  {
   "cell_type": "code",
   "execution_count": 105,
   "metadata": {
    "collapsed": false,
    "deletable": true,
    "editable": true
   },
   "outputs": [
    {
     "data": {
      "text/html": [
       "<div>\n",
       "<table border=\"1\" class=\"dataframe\">\n",
       "  <thead>\n",
       "    <tr style=\"text-align: right;\">\n",
       "      <th></th>\n",
       "      <th>created_at</th>\n",
       "      <th>user</th>\n",
       "      <th>text</th>\n",
       "      <th>lang</th>\n",
       "      <th>Location</th>\n",
       "      <th>retweet_count</th>\n",
       "      <th>coordinates</th>\n",
       "    </tr>\n",
       "  </thead>\n",
       "  <tbody>\n",
       "    <tr>\n",
       "      <th>0</th>\n",
       "      <td>2017-08-17 19:08:44</td>\n",
       "      <td>pjj5nqWrdajjbuc</td>\n",
       "      <td>#girl #london exotic #nudes #sex naked #amateu...</td>\n",
       "      <td>en</td>\n",
       "      <td>None</td>\n",
       "      <td>0</td>\n",
       "      <td>None</td>\n",
       "    </tr>\n",
       "    <tr>\n",
       "      <th>1</th>\n",
       "      <td>2017-08-17 19:08:42</td>\n",
       "      <td>Hockeyfrilla</td>\n",
       "      <td>@MsMorganWalsh Not sure if you're still in Lon...</td>\n",
       "      <td>en</td>\n",
       "      <td>None</td>\n",
       "      <td>0</td>\n",
       "      <td>None</td>\n",
       "    </tr>\n",
       "    <tr>\n",
       "      <th>2</th>\n",
       "      <td>2017-08-17 19:08:42</td>\n",
       "      <td>skipisky</td>\n",
       "      <td>Whats 5 hours London time? 8:08 PM WVAT ISHV G...</td>\n",
       "      <td>en</td>\n",
       "      <td>None</td>\n",
       "      <td>0</td>\n",
       "      <td>None</td>\n",
       "    </tr>\n",
       "    <tr>\n",
       "      <th>3</th>\n",
       "      <td>2017-08-17 19:08:40</td>\n",
       "      <td>ni_voice</td>\n",
       "      <td>@PaulTyredagh81 Currently going to Tulsi in Ho...</td>\n",
       "      <td>en</td>\n",
       "      <td>None</td>\n",
       "      <td>0</td>\n",
       "      <td>None</td>\n",
       "    </tr>\n",
       "    <tr>\n",
       "      <th>4</th>\n",
       "      <td>2017-08-17 19:08:39</td>\n",
       "      <td>AdrianJohnSroka</td>\n",
       "      <td>No Go Zones: 'No Whites Allowed After 8 PM' Gr...</td>\n",
       "      <td>en</td>\n",
       "      <td>None</td>\n",
       "      <td>0</td>\n",
       "      <td>None</td>\n",
       "    </tr>\n",
       "  </tbody>\n",
       "</table>\n",
       "</div>"
      ],
      "text/plain": [
       "            created_at             user  \\\n",
       "0  2017-08-17 19:08:44  pjj5nqWrdajjbuc   \n",
       "1  2017-08-17 19:08:42     Hockeyfrilla   \n",
       "2  2017-08-17 19:08:42         skipisky   \n",
       "3  2017-08-17 19:08:40         ni_voice   \n",
       "4  2017-08-17 19:08:39  AdrianJohnSroka   \n",
       "\n",
       "                                                text lang Location  \\\n",
       "0  #girl #london exotic #nudes #sex naked #amateu...   en     None   \n",
       "1  @MsMorganWalsh Not sure if you're still in Lon...   en     None   \n",
       "2  Whats 5 hours London time? 8:08 PM WVAT ISHV G...   en     None   \n",
       "3  @PaulTyredagh81 Currently going to Tulsi in Ho...   en     None   \n",
       "4  No Go Zones: 'No Whites Allowed After 8 PM' Gr...   en     None   \n",
       "\n",
       "   retweet_count coordinates  \n",
       "0              0        None  \n",
       "1              0        None  \n",
       "2              0        None  \n",
       "3              0        None  \n",
       "4              0        None  "
      ]
     },
     "execution_count": 105,
     "metadata": {},
     "output_type": "execute_result"
    }
   ],
   "source": [
    "#printing results to check its contents\n",
    "merged_tweets.head()"
   ]
  },
  {
   "cell_type": "code",
   "execution_count": 102,
   "metadata": {
    "collapsed": true,
    "deletable": true,
    "editable": true
   },
   "outputs": [],
   "source": [
    "#Because this is a streamed data, it is important to save downloaded tweets to use for future analysis.\n",
    "#Saving the dataframe as a csv file for future use and analysis.\n",
    "save_tweets = merged_tweets.to_csv('/Users/jamessolomon/Desktop/merged_tweets.csv', sep=',', encoding='utf-8')"
   ]
  },
  {
   "cell_type": "markdown",
   "metadata": {},
   "source": [
    "# SECTION B"
   ]
  },
  {
   "cell_type": "markdown",
   "metadata": {},
   "source": [
    "This section deals with analysing the contents of the tweets stored in a dataframe."
   ]
  },
  {
   "cell_type": "code",
   "execution_count": 106,
   "metadata": {
    "collapsed": false,
    "deletable": true,
    "editable": true
   },
   "outputs": [
    {
     "data": {
      "image/png": "[encoded data removed]",
      "text/plain": [
       "<matplotlib.figure.Figure at 0x11173ea50>"
      ]
     },
     "metadata": {},
     "output_type": "display_data"
    }
   ],
   "source": [
    "#counting all languages tweets were sent in\n",
    "tweets_by_lang = merged_tweets['lang'].value_counts()\n",
    "#plotting the counted languages \n",
    "fig, ax = plt.subplots(figsize=(10,8))\n",
    "ax.tick_params(axis='x', labelsize=17)\n",
    "ax.tick_params(axis='y', labelsize=15)\n",
    "ax.set_xlabel('Languages', fontsize=20)\n",
    "ax.set_ylabel('Number of tweets' , fontsize=20)\n",
    "ax.set_title('Top 5 languages', fontsize=25, fontweight='bold')\n",
    "tweets_by_lang[:5].plot(ax=ax, kind='bar', color='red', rot=30)\n",
    "#assigning the number of tweets for each language on top of bar for each language\n",
    "for lng in ax.patches:\n",
    "    ax.annotate(\"%.f\" % lng.get_height(), (lng.get_x() + lng.get_width() / 2., lng.get_height()), \n",
    "                ha='center', va='center', xytext=(0, 10), textcoords='offset points',fontsize=16)\n",
    "#saving plot\n",
    "plt.savefig('/Users/jamessolomon/Desktop/plots/top5_tweets.png')"
   ]
  },
  {
   "cell_type": "code",
   "execution_count": 107,
   "metadata": {
    "collapsed": false,
    "deletable": true,
    "editable": true
   },
   "outputs": [
    {
     "data": {
      "image/png": "[encoded data removed]",
      "text/plain": [
       "<matplotlib.figure.Figure at 0x115299750>"
      ]
     },
     "metadata": {},
     "output_type": "display_data"
    }
   ],
   "source": [
    "#counting the number of tweets sent from a country \n",
    "tweets_by_country = merged_tweets['Location'].value_counts()\n",
    "#plotting the total count of tweets by country\n",
    "fig, ax = plt.subplots(figsize=(10,8))\n",
    "ax.tick_params(axis='x', labelsize=15)\n",
    "ax.tick_params(axis='y', labelsize=15)\n",
    "ax.set_xlabel('Countries', fontsize=20)\n",
    "ax.set_ylabel('Number of tweets' , fontsize=20)\n",
    "ax.set_title('Top 5 countries', fontsize=25, fontweight='bold')\n",
    "tweets_by_country[:5].plot(ax=ax, kind='bar', color='blue',rot=30)\n",
    "#assigning the number of tweets for each country on top of bar for each country\n",
    "for twt in ax.patches:\n",
    "    ax.annotate(\"%.f\" % twt.get_height(), (twt.get_x() + twt.get_width() / 2., twt.get_height()), \n",
    "                ha='center', va='center', xytext=(0, 10), textcoords='offset points',fontsize=16)\n",
    "#saving plot\n",
    "plt.savefig('/Users/jamessolomon/Desktop/plots/top5_countries.png')"
   ]
  },
  {
   "cell_type": "code",
   "execution_count": 108,
   "metadata": {
    "collapsed": true,
    "deletable": true,
    "editable": true
   },
   "outputs": [],
   "source": [
    "#This function return True if a word is found in text, otherwise it returns False.\n",
    "def word_in_text(word, text):\n",
    "    word = word.lower()\n",
    "    text = text.lower()\n",
    "    match = re.search(word, text)\n",
    "    if match:\n",
    "        return True\n",
    "    return False"
   ]
  },
  {
   "cell_type": "code",
   "execution_count": 109,
   "metadata": {
    "collapsed": true,
    "deletable": true,
    "editable": true
   },
   "outputs": [],
   "source": [
    "#creating new columns to contain a boolean if they exist in the tweets dataframe\n",
    "merged_tweets['West End'] = merged_tweets['text'].apply(lambda tweet: word_in_text('west end', tweet))\n",
    "merged_tweets['London'] = merged_tweets['text'].apply(lambda tweet: word_in_text('london', tweet))\n",
    "merged_tweets['Westminster'] = merged_tweets['text'].apply(lambda tweet: word_in_text('westminster', tweet))"
   ]
  },
  {
   "cell_type": "code",
   "execution_count": 113,
   "metadata": {
    "collapsed": false,
    "deletable": true,
    "editable": true
   },
   "outputs": [
    {
     "name": "stdout",
     "output_type": "stream",
     "text": [
      "2\n",
      "4285\n",
      "26\n"
     ]
    }
   ],
   "source": [
    "#calculate the number of tweets for each area\n",
    "print merged_tweets['West End'].value_counts()[True]\n",
    "print merged_tweets['London'].value_counts()[True]\n",
    "print merged_tweets['Westminster'].value_counts()[True]"
   ]
  },
  {
   "cell_type": "code",
   "execution_count": 120,
   "metadata": {
    "collapsed": false,
    "deletable": true,
    "editable": true
   },
   "outputs": [
    {
     "data": {
      "image/png": "[encoded data removed]",
      "text/plain": [
       "<matplotlib.figure.Figure at 0x11198a490>"
      ]
     },
     "metadata": {},
     "output_type": "display_data"
    }
   ],
   "source": [
    "#making a comparison chart for each location retrieved\n",
    "areas = ['West End', 'London', 'Westminster']\n",
    "tweets_by_area = [merged_tweets['West End'].value_counts()[True], merged_tweets['London'].value_counts()[True], merged_tweets['Westminster'].value_counts()[True]]\n",
    "\n",
    "x_pos = list(range(len(areas)))\n",
    "width = 0.8\n",
    "fig, ax = plt.subplots(figsize=(10,8))\n",
    "plt.bar(x_pos, tweets_by_area, width, alpha=1, color='black')\n",
    "\n",
    "# Setting axis labels and ticks\n",
    "ax.set_ylabel('Number of tweets', fontsize=20)\n",
    "ax.set_title('Ranking: London vs. Westminster vs. West End (Raw data)', fontsize=20)\n",
    "rcParams['axes.titlepad'] = 25 \n",
    "ax.set_xticks([p + 0.01 * width for p in x_pos])\n",
    "ax.set_xticklabels(areas,fontsize=20,fontweight='bold')\n",
    "plt.grid('off')\n",
    "#assigning numbers on top of bar for each location retrieved\n",
    "for rnk in ax.patches:\n",
    "    ax.annotate(\"%.f\" % rnk.get_height(), (rnk.get_x() + rnk.get_width() / 2., rnk.get_height()), \n",
    "                ha='center', va='center', xytext=(0, 10), textcoords='offset points',fontsize=16)\n",
    "#saving plot\n",
    "plt.savefig('/Users/jamessolomon/Desktop/plots/area_ranking.png')"
   ]
  },
  {
   "cell_type": "markdown",
   "metadata": {},
   "source": [
    "I wanted to know if some keywords were present in the downloaded tweets, so I created new columns to contain a boolean\n",
    "for each keyword present or not present"
   ]
  },
  {
   "cell_type": "code",
   "execution_count": 133,
   "metadata": {
    "collapsed": false,
    "deletable": true,
    "editable": true
   },
   "outputs": [],
   "source": [
    "#creating dataframe to contain text in tweets\n",
    "merged_tweets['Train'] = merged_tweets['text'].apply(lambda tweet: word_in_text('train', tweet))\n",
    "merged_tweets['Club'] = merged_tweets['text'].apply(lambda tweet: word_in_text('club', tweet))\n",
    "merged_tweets['Noise'] = merged_tweets['text'].apply(lambda tweet: word_in_text('noise', tweet))\n",
    "merged_tweets['Food'] = merged_tweets['text'].apply(lambda tweet: word_in_text('food', tweet))\n",
    "merged_tweets['Drink'] = merged_tweets['text'].apply(lambda tweet: word_in_text('drink', tweet))"
   ]
  },
  {
   "cell_type": "code",
   "execution_count": 135,
   "metadata": {
    "collapsed": true,
    "deletable": true,
    "editable": true
   },
   "outputs": [],
   "source": [
    "#creating relevant tweets. This shows whether the keword is in the tweets or not\n",
    "merged_tweets['Relevant'] = merged_tweets['text'].apply(lambda tweet: word_in_text('train', tweet) or \n",
    "                                          word_in_text('club', tweet) or \n",
    "                                         word_in_text('noise', tweet) or\n",
    "                                         word_in_text('food', tweet) or \n",
    "                                         word_in_text('drink', tweet)) "
   ]
  },
  {
   "cell_type": "code",
   "execution_count": 136,
   "metadata": {
    "collapsed": false,
    "deletable": true,
    "editable": true
   },
   "outputs": [
    {
     "name": "stdout",
     "output_type": "stream",
     "text": [
      "50\n",
      "43\n",
      "1\n",
      "36\n",
      "14\n",
      "141\n"
     ]
    }
   ],
   "source": [
    "#printing total tweets for each keyword searched\n",
    "print merged_tweets['Train'].value_counts()[True] \n",
    "print merged_tweets['Club'].value_counts()[True]\n",
    "print merged_tweets['Noise'].value_counts()[True]\n",
    "print merged_tweets['Food'].value_counts()[True]\n",
    "print merged_tweets['Drink'].value_counts()[True]\n",
    "print merged_tweets['Relevant'].value_counts()[True]"
   ]
  },
  {
   "cell_type": "code",
   "execution_count": 230,
   "metadata": {
    "collapsed": false,
    "deletable": true,
    "editable": true
   },
   "outputs": [
    {
     "data": {
      "image/png": "[encoded data removed]",
      "text/plain": [
       "<matplotlib.figure.Figure at 0x111788490>"
      ]
     },
     "metadata": {},
     "output_type": "display_data"
    }
   ],
   "source": [
    "#plotting tweets of most mentioned word in text\n",
    "areas2 = ['Train','Club','Noise','Food','Drink']\n",
    "tweets_interest = [merged_tweets[merged_tweets['Relevant'] == True]['Train'].value_counts()[True], \n",
    "                      merged_tweets[merged_tweets['Relevant'] == True]['Club'].value_counts()[True], \n",
    "                      merged_tweets[merged_tweets['Relevant'] == True]['Noise'].value_counts()[True],\n",
    "                  merged_tweets[merged_tweets['Relevant'] == True]['Food'].value_counts()[True],\n",
    "                  merged_tweets[merged_tweets['Relevant'] == True]['Drink'].value_counts()[True]]\n",
    "x_pos = list(range(len(areas2)))\n",
    "width = 0.8\n",
    "fig, ax = plt.subplots(figsize=(10,8))\n",
    "plt.bar(x_pos, tweets_interest, width,alpha=1,color='g')\n",
    "ax.set_xlabel('Keywords', fontsize=20)\n",
    "ax.set_ylabel('Number of tweets', fontsize=20)\n",
    "ax.set_title('Ranking: Train vs. Club vs. Noise vs. Food vs. Drink', fontsize = 20)\n",
    "rcParams['axes.titlepad'] = 25 \n",
    "ax.set_xticks([p + 0.01 * width for p in x_pos])\n",
    "ax.set_xticklabels(areas2,fontsize=20, fontweight='bold')\n",
    "plt.grid('off')\n",
    "#assigning numbers on top of bar for each keyword retrieved\n",
    "for rnk in ax.patches:\n",
    "    ax.annotate(\"%.f\" % rnk.get_height(), (rnk.get_x() + rnk.get_width() / 2., rnk.get_height()), \n",
    "                ha='center', va='center', xytext=(0, 10), textcoords='offset points',fontsize=16)\n",
    "#saving plot\n",
    "plt.savefig('/Users/jamessolomon/Desktop/plots/relevant.png')"
   ]
  },
  {
   "cell_type": "markdown",
   "metadata": {},
   "source": [
    "# SECTION C"
   ]
  },
  {
   "cell_type": "markdown",
   "metadata": {},
   "source": [
    "SENTIMENT ANALYSIS:\n",
    "\n",
    "    This explains the sentiments of users of services or the general things that people want to talk about. They express their mode by stating it emphatically or using emoticons. Such an information will be helpful to know how people feel about a particular item or topic. The steps below uses scores to identify sentiments of people for analysis.\n"
   ]
  },
  {
   "cell_type": "markdown",
   "metadata": {
    "deletable": true,
    "editable": true
   },
   "source": [
    "\n",
    "\n",
    "source code credit: http://t-redactyl.io/blog/2017/04/applying-sentiment-analysis-with-vader-and-the-twitter-api.html"
   ]
  },
  {
   "cell_type": "code",
   "execution_count": null,
   "metadata": {
    "collapsed": true,
    "deletable": true,
    "editable": true
   },
   "outputs": [],
   "source": [
    "#creating the first lists to store sentiment scores\n",
    "twt1 = []\n",
    "number_favourites1 = []\n",
    "vs_compound1 = []\n",
    "vs_pos1 = []\n",
    "vs_neu1 = []\n",
    "vs_neg1 = []"
   ]
  },
  {
   "cell_type": "code",
   "execution_count": 165,
   "metadata": {
    "collapsed": true
   },
   "outputs": [],
   "source": [
    "#creating the second lists to store sentiment scores\n",
    "twt2 = []\n",
    "number_favourites2 = []\n",
    "vs_compound2 = []\n",
    "vs_pos2 = []\n",
    "vs_neu2 = []\n",
    "vs_neg2 = []"
   ]
  },
  {
   "cell_type": "code",
   "execution_count": 156,
   "metadata": {
    "collapsed": false,
    "deletable": true,
    "editable": true
   },
   "outputs": [],
   "source": [
    "#importing sentiment module in python\n",
    "from vaderSentiment.vaderSentiment import SentimentIntensityAnalyzer"
   ]
  },
  {
   "cell_type": "code",
   "execution_count": 163,
   "metadata": {
    "collapsed": false,
    "deletable": true,
    "editable": true
   },
   "outputs": [],
   "source": [
    "#instantiating object\n",
    "analyzer = SentimentIntensityAnalyzer()\n",
    "#looping through first tweets downloaded and appending scores to the lists created\n",
    "for i in range(0, len(west_end_first)):\n",
    "    twt1.append(west_end_first[i]['text'])\n",
    "    number_favourites1.append(west_end_first[i]['favorite_count'])\n",
    "    vs_compound1.append(analyzer.polarity_scores(west_end_first[i]['text'])['compound'])\n",
    "    vs_pos1.append(analyzer.polarity_scores(west_end_first[i]['text'])['pos'])\n",
    "    vs_neu1.append(analyzer.polarity_scores(west_end_first[i]['text'])['neu'])\n",
    "    vs_neg1.append(analyzer.polarity_scores(west_end_first[i]['text'])['neg'])"
   ]
  },
  {
   "cell_type": "code",
   "execution_count": 166,
   "metadata": {
    "collapsed": true
   },
   "outputs": [],
   "source": [
    "#instantiating object\n",
    "analyzer = SentimentIntensityAnalyzer()\n",
    "#looping through the second tweets downloaded and appending scores to the lists created\n",
    "for i in range(0, len(west_end_second)):\n",
    "    twt2.append(west_end_second[i]['text'])\n",
    "    number_favourites2.append(west_end_second[i]['favorite_count'])\n",
    "    vs_compound2.append(analyzer.polarity_scores(west_end_second[i]['text'])['compound'])\n",
    "    vs_pos2.append(analyzer.polarity_scores(west_end_second[i]['text'])['pos'])\n",
    "    vs_neu2.append(analyzer.polarity_scores(west_end_second[i]['text'])['neu'])\n",
    "    vs_neg2.append(analyzer.polarity_scores(west_end_second[i]['text'])['neg'])"
   ]
  },
  {
   "cell_type": "code",
   "execution_count": 164,
   "metadata": {
    "collapsed": false,
    "deletable": true,
    "editable": true
   },
   "outputs": [
    {
     "data": {
      "text/html": [
       "<div>\n",
       "<table border=\"1\" class=\"dataframe\">\n",
       "  <thead>\n",
       "    <tr style=\"text-align: right;\">\n",
       "      <th></th>\n",
       "      <th>Tweet</th>\n",
       "      <th>Favourites</th>\n",
       "      <th>Compound</th>\n",
       "      <th>Positive</th>\n",
       "      <th>Neutral</th>\n",
       "      <th>Negative</th>\n",
       "    </tr>\n",
       "  </thead>\n",
       "  <tbody>\n",
       "    <tr>\n",
       "      <th>0</th>\n",
       "      <td>#girl #london exotic #nudes #sex naked #amateu...</td>\n",
       "      <td>0</td>\n",
       "      <td>0.0000</td>\n",
       "      <td>0.000</td>\n",
       "      <td>1.000</td>\n",
       "      <td>0.000</td>\n",
       "    </tr>\n",
       "    <tr>\n",
       "      <th>1</th>\n",
       "      <td>@MsMorganWalsh Not sure if you're still in Lon...</td>\n",
       "      <td>0</td>\n",
       "      <td>0.8834</td>\n",
       "      <td>0.377</td>\n",
       "      <td>0.623</td>\n",
       "      <td>0.000</td>\n",
       "    </tr>\n",
       "    <tr>\n",
       "      <th>2</th>\n",
       "      <td>Whats 5 hours London time? 8:08 PM WVAT ISHV G...</td>\n",
       "      <td>0</td>\n",
       "      <td>0.0000</td>\n",
       "      <td>0.000</td>\n",
       "      <td>1.000</td>\n",
       "      <td>0.000</td>\n",
       "    </tr>\n",
       "    <tr>\n",
       "      <th>3</th>\n",
       "      <td>@PaulTyredagh81 Currently going to Tulsi in Ho...</td>\n",
       "      <td>0</td>\n",
       "      <td>0.4927</td>\n",
       "      <td>0.176</td>\n",
       "      <td>0.824</td>\n",
       "      <td>0.000</td>\n",
       "    </tr>\n",
       "    <tr>\n",
       "      <th>4</th>\n",
       "      <td>No Go Zones: 'No Whites Allowed After 8 PM' Gr...</td>\n",
       "      <td>0</td>\n",
       "      <td>-0.5267</td>\n",
       "      <td>0.000</td>\n",
       "      <td>0.732</td>\n",
       "      <td>0.268</td>\n",
       "    </tr>\n",
       "  </tbody>\n",
       "</table>\n",
       "</div>"
      ],
      "text/plain": [
       "                                               Tweet  Favourites  Compound  \\\n",
       "0  #girl #london exotic #nudes #sex naked #amateu...           0    0.0000   \n",
       "1  @MsMorganWalsh Not sure if you're still in Lon...           0    0.8834   \n",
       "2  Whats 5 hours London time? 8:08 PM WVAT ISHV G...           0    0.0000   \n",
       "3  @PaulTyredagh81 Currently going to Tulsi in Ho...           0    0.4927   \n",
       "4  No Go Zones: 'No Whites Allowed After 8 PM' Gr...           0   -0.5267   \n",
       "\n",
       "   Positive  Neutral  Negative  \n",
       "0     0.000    1.000     0.000  \n",
       "1     0.377    0.623     0.000  \n",
       "2     0.000    1.000     0.000  \n",
       "3     0.176    0.824     0.000  \n",
       "4     0.000    0.732     0.268  "
      ]
     },
     "execution_count": 164,
     "metadata": {},
     "output_type": "execute_result"
    }
   ],
   "source": [
    "#creating the first dataframe for the score generated using the sentiment module on the downloaded tweet\n",
    "twitter_df1 = pd.DataFrame({'Tweet': twt1,\n",
    "                        'Favourites': number_favourites1,\n",
    "                        'Compound': vs_compound1,\n",
    "                        'Positive': vs_pos1,\n",
    "                        'Neutral': vs_neu1,\n",
    "                        'Negative': vs_neg1})\n",
    "twitter_df1 = twitter_df1[['Tweet', 'Favourites', 'Compound',\n",
    "                         'Positive', 'Neutral', 'Negative']]\n",
    "\n",
    "# Have a look at the top 5 results.\n",
    "twitter_df1.head(5)"
   ]
  },
  {
   "cell_type": "code",
   "execution_count": 167,
   "metadata": {
    "collapsed": false
   },
   "outputs": [
    {
     "data": {
      "text/html": [
       "<div>\n",
       "<table border=\"1\" class=\"dataframe\">\n",
       "  <thead>\n",
       "    <tr style=\"text-align: right;\">\n",
       "      <th></th>\n",
       "      <th>Tweet</th>\n",
       "      <th>Favourites</th>\n",
       "      <th>Compound</th>\n",
       "      <th>Positive</th>\n",
       "      <th>Neutral</th>\n",
       "      <th>Negative</th>\n",
       "    </tr>\n",
       "  </thead>\n",
       "  <tbody>\n",
       "    <tr>\n",
       "      <th>0</th>\n",
       "      <td>I need this set https://t.co/7M1yowQfzz</td>\n",
       "      <td>0</td>\n",
       "      <td>0.0000</td>\n",
       "      <td>0.000</td>\n",
       "      <td>1.000</td>\n",
       "      <td>0.000</td>\n",
       "    </tr>\n",
       "    <tr>\n",
       "      <th>1</th>\n",
       "      <td>@tjmartn88 @metpoliceuk Because London has no ...</td>\n",
       "      <td>0</td>\n",
       "      <td>-0.7783</td>\n",
       "      <td>0.000</td>\n",
       "      <td>0.570</td>\n",
       "      <td>0.430</td>\n",
       "    </tr>\n",
       "    <tr>\n",
       "      <th>2</th>\n",
       "      <td>The 22:10 London Bridge to West Croydon has be...</td>\n",
       "      <td>0</td>\n",
       "      <td>-0.2263</td>\n",
       "      <td>0.000</td>\n",
       "      <td>0.881</td>\n",
       "      <td>0.119</td>\n",
       "    </tr>\n",
       "    <tr>\n",
       "      <th>3</th>\n",
       "      <td>Platform Engineering Lead  - City of London, L...</td>\n",
       "      <td>0</td>\n",
       "      <td>0.0000</td>\n",
       "      <td>0.000</td>\n",
       "      <td>1.000</td>\n",
       "      <td>0.000</td>\n",
       "    </tr>\n",
       "    <tr>\n",
       "      <th>4</th>\n",
       "      <td>@qweety_ Its a funny story to tell on another ...</td>\n",
       "      <td>0</td>\n",
       "      <td>0.9001</td>\n",
       "      <td>0.423</td>\n",
       "      <td>0.577</td>\n",
       "      <td>0.000</td>\n",
       "    </tr>\n",
       "  </tbody>\n",
       "</table>\n",
       "</div>"
      ],
      "text/plain": [
       "                                               Tweet  Favourites  Compound  \\\n",
       "0            I need this set https://t.co/7M1yowQfzz           0    0.0000   \n",
       "1  @tjmartn88 @metpoliceuk Because London has no ...           0   -0.7783   \n",
       "2  The 22:10 London Bridge to West Croydon has be...           0   -0.2263   \n",
       "3  Platform Engineering Lead  - City of London, L...           0    0.0000   \n",
       "4  @qweety_ Its a funny story to tell on another ...           0    0.9001   \n",
       "\n",
       "   Positive  Neutral  Negative  \n",
       "0     0.000    1.000     0.000  \n",
       "1     0.000    0.570     0.430  \n",
       "2     0.000    0.881     0.119  \n",
       "3     0.000    1.000     0.000  \n",
       "4     0.423    0.577     0.000  "
      ]
     },
     "execution_count": 167,
     "metadata": {},
     "output_type": "execute_result"
    }
   ],
   "source": [
    "#creating the second dataframe for the score generated using the sentiment module on the downloaded tweet\n",
    "twitter_df2 = pd.DataFrame({'Tweet': twt2,\n",
    "                        'Favourites': number_favourites2,\n",
    "                        'Compound': vs_compound2,\n",
    "                        'Positive': vs_pos2,\n",
    "                        'Neutral': vs_neu2,\n",
    "                        'Negative': vs_neg2})\n",
    "twitter_df2 = twitter_df2[['Tweet', 'Favourites', 'Compound',\n",
    "                         'Positive', 'Neutral', 'Negative']]\n",
    "\n",
    "# Have a look at the top 5 results.\n",
    "twitter_df2.head(5)"
   ]
  },
  {
   "cell_type": "code",
   "execution_count": 171,
   "metadata": {
    "collapsed": true
   },
   "outputs": [],
   "source": [
    "#joining the two dataframes\n",
    "join_sent_twts = pd.concat([twitter_df1,twitter_df2])"
   ]
  },
  {
   "cell_type": "code",
   "execution_count": 172,
   "metadata": {
    "collapsed": false
   },
   "outputs": [
    {
     "data": {
      "text/html": [
       "<div>\n",
       "<table border=\"1\" class=\"dataframe\">\n",
       "  <thead>\n",
       "    <tr style=\"text-align: right;\">\n",
       "      <th></th>\n",
       "      <th>Tweet</th>\n",
       "      <th>Favourites</th>\n",
       "      <th>Compound</th>\n",
       "      <th>Positive</th>\n",
       "      <th>Neutral</th>\n",
       "      <th>Negative</th>\n",
       "    </tr>\n",
       "  </thead>\n",
       "  <tbody>\n",
       "    <tr>\n",
       "      <th>0</th>\n",
       "      <td>#girl #london exotic #nudes #sex naked #amateu...</td>\n",
       "      <td>0</td>\n",
       "      <td>0.0000</td>\n",
       "      <td>0.000</td>\n",
       "      <td>1.000</td>\n",
       "      <td>0.000</td>\n",
       "    </tr>\n",
       "    <tr>\n",
       "      <th>1</th>\n",
       "      <td>@MsMorganWalsh Not sure if you're still in Lon...</td>\n",
       "      <td>0</td>\n",
       "      <td>0.8834</td>\n",
       "      <td>0.377</td>\n",
       "      <td>0.623</td>\n",
       "      <td>0.000</td>\n",
       "    </tr>\n",
       "    <tr>\n",
       "      <th>2</th>\n",
       "      <td>Whats 5 hours London time? 8:08 PM WVAT ISHV G...</td>\n",
       "      <td>0</td>\n",
       "      <td>0.0000</td>\n",
       "      <td>0.000</td>\n",
       "      <td>1.000</td>\n",
       "      <td>0.000</td>\n",
       "    </tr>\n",
       "    <tr>\n",
       "      <th>3</th>\n",
       "      <td>@PaulTyredagh81 Currently going to Tulsi in Ho...</td>\n",
       "      <td>0</td>\n",
       "      <td>0.4927</td>\n",
       "      <td>0.176</td>\n",
       "      <td>0.824</td>\n",
       "      <td>0.000</td>\n",
       "    </tr>\n",
       "    <tr>\n",
       "      <th>4</th>\n",
       "      <td>No Go Zones: 'No Whites Allowed After 8 PM' Gr...</td>\n",
       "      <td>0</td>\n",
       "      <td>-0.5267</td>\n",
       "      <td>0.000</td>\n",
       "      <td>0.732</td>\n",
       "      <td>0.268</td>\n",
       "    </tr>\n",
       "  </tbody>\n",
       "</table>\n",
       "</div>"
      ],
      "text/plain": [
       "                                               Tweet  Favourites  Compound  \\\n",
       "0  #girl #london exotic #nudes #sex naked #amateu...           0    0.0000   \n",
       "1  @MsMorganWalsh Not sure if you're still in Lon...           0    0.8834   \n",
       "2  Whats 5 hours London time? 8:08 PM WVAT ISHV G...           0    0.0000   \n",
       "3  @PaulTyredagh81 Currently going to Tulsi in Ho...           0    0.4927   \n",
       "4  No Go Zones: 'No Whites Allowed After 8 PM' Gr...           0   -0.5267   \n",
       "\n",
       "   Positive  Neutral  Negative  \n",
       "0     0.000    1.000     0.000  \n",
       "1     0.377    0.623     0.000  \n",
       "2     0.000    1.000     0.000  \n",
       "3     0.176    0.824     0.000  \n",
       "4     0.000    0.732     0.268  "
      ]
     },
     "execution_count": 172,
     "metadata": {},
     "output_type": "execute_result"
    }
   ],
   "source": [
    "#printing the results to check its contents\n",
    "join_sent_twts.head()"
   ]
  },
  {
   "cell_type": "code",
   "execution_count": 215,
   "metadata": {
    "collapsed": false,
    "deletable": true,
    "editable": true
   },
   "outputs": [
    {
     "name": "stderr",
     "output_type": "stream",
     "text": [
      "/Library/Frameworks/Python.framework/Versions/2.7/lib/python2.7/site-packages/ipykernel/__main__.py:3: UserWarning: This pattern has match groups. To actually get the groups, use str.extract.\n",
      "  app.launch_new_instance()\n"
     ]
    },
    {
     "data": {
      "text/html": [
       "<div>\n",
       "<table border=\"1\" class=\"dataframe\">\n",
       "  <thead>\n",
       "    <tr style=\"text-align: right;\">\n",
       "      <th></th>\n",
       "      <th>Tweet</th>\n",
       "      <th>Favourites</th>\n",
       "      <th>Compound</th>\n",
       "      <th>Positive</th>\n",
       "      <th>Neutral</th>\n",
       "      <th>Negative</th>\n",
       "      <th>Keywords</th>\n",
       "    </tr>\n",
       "  </thead>\n",
       "  <tbody>\n",
       "    <tr>\n",
       "      <th>65</th>\n",
       "      <td>@Sarah_Hyland Let me know when you're in Londo...</td>\n",
       "      <td>0</td>\n",
       "      <td>0.0000</td>\n",
       "      <td>0.000</td>\n",
       "      <td>1.000</td>\n",
       "      <td>0.000</td>\n",
       "      <td>1</td>\n",
       "    </tr>\n",
       "    <tr>\n",
       "      <th>133</th>\n",
       "      <td>Weekend gigs....\\n\\nFRI - London, Egg club\\nSA...</td>\n",
       "      <td>3</td>\n",
       "      <td>-0.6597</td>\n",
       "      <td>0.000</td>\n",
       "      <td>0.812</td>\n",
       "      <td>0.188</td>\n",
       "      <td>1</td>\n",
       "    </tr>\n",
       "    <tr>\n",
       "      <th>190</th>\n",
       "      <td>Solo on the train to London! https://t.co/X3CV...</td>\n",
       "      <td>0</td>\n",
       "      <td>0.0000</td>\n",
       "      <td>0.000</td>\n",
       "      <td>1.000</td>\n",
       "      <td>0.000</td>\n",
       "      <td>1</td>\n",
       "    </tr>\n",
       "    <tr>\n",
       "      <th>193</th>\n",
       "      <td>New to London or Bristol or just visiting and ...</td>\n",
       "      <td>0</td>\n",
       "      <td>0.4588</td>\n",
       "      <td>0.154</td>\n",
       "      <td>0.846</td>\n",
       "      <td>0.000</td>\n",
       "      <td>1</td>\n",
       "    </tr>\n",
       "    <tr>\n",
       "      <th>370</th>\n",
       "      <td>RTWorkday: ICYMI: Our London team won our annu...</td>\n",
       "      <td>0</td>\n",
       "      <td>0.7644</td>\n",
       "      <td>0.292</td>\n",
       "      <td>0.708</td>\n",
       "      <td>0.000</td>\n",
       "      <td>1</td>\n",
       "    </tr>\n",
       "  </tbody>\n",
       "</table>\n",
       "</div>"
      ],
      "text/plain": [
       "                                                 Tweet  Favourites  Compound  \\\n",
       "65   @Sarah_Hyland Let me know when you're in Londo...           0    0.0000   \n",
       "133  Weekend gigs....\\n\\nFRI - London, Egg club\\nSA...           3   -0.6597   \n",
       "190  Solo on the train to London! https://t.co/X3CV...           0    0.0000   \n",
       "193  New to London or Bristol or just visiting and ...           0    0.4588   \n",
       "370  RTWorkday: ICYMI: Our London team won our annu...           0    0.7644   \n",
       "\n",
       "     Positive  Neutral  Negative  Keywords  \n",
       "65      0.000    1.000     0.000         1  \n",
       "133     0.000    0.812     0.188         1  \n",
       "190     0.000    1.000     0.000         1  \n",
       "193     0.154    0.846     0.000         1  \n",
       "370     0.292    0.708     0.000         1  "
      ]
     },
     "execution_count": 215,
     "metadata": {},
     "output_type": "execute_result"
    }
   ],
   "source": [
    "#categorising tweets into keywords that users talk about most \n",
    "join_sent_twts['Keywords'] = np.where(join_sent_twts['Tweet'].str.contains('(?:^|\\W)(Train|Club|Noise|Food|Drink)(?:$|\\W)',\n",
    "    flags = re.IGNORECASE), 1, 0)\n",
    "\n",
    "# printing results\n",
    "join_sent_twts[join_sent_twts['Keywords'] == 1].head()"
   ]
  },
  {
   "cell_type": "code",
   "execution_count": 232,
   "metadata": {
    "collapsed": false,
    "deletable": true,
    "editable": true
   },
   "outputs": [
    {
     "data": {
      "image/png": "[encoded data removed]",
      "text/plain": [
       "<matplotlib.figure.Figure at 0x109b81110>"
      ]
     },
     "metadata": {},
     "output_type": "display_data"
    }
   ],
   "source": [
    "#plotting sentiment scores \n",
    "sns.set(font_scale=1.5)\n",
    "sns.set_style(\"ticks\", {\"xtick.major.size\": 8, \"ytick.major.size\": 8})\n",
    "fig,ax=plt.subplots(figsize=(10,8))\n",
    "join_sent_twts['Positive'].plot(legend=True,ax=ax)\n",
    "join_sent_twts['Negative'].plot(legend=True,ax=ax,c='r')\n",
    "ax.set_title('Sentiment Analysis \\n (Train, Club, Noise, Food, Drink)', fontsize=25, fontweight='bold')\n",
    "ax.set_xlabel('Number of tweets',fontsize=20)\n",
    "ax.set_ylabel('Score (%)', fontsize=20)\n",
    "plt.legend(loc='best',bbox_to_anchor=(1, 0.9),fontsize=16)\n",
    "plt.grid('off')\n",
    "#saving plot\n",
    "plt.savefig('/Users/jamessolomon/Desktop/plots/sentiment.png',bbox_inches=\"tight\")"
   ]
  },
  {
   "cell_type": "code",
   "execution_count": null,
   "metadata": {
    "collapsed": true,
    "deletable": true,
    "editable": true
   },
   "outputs": [],
   "source": []
  }
 ],
 "metadata": {
  "kernelspec": {
   "display_name": "Python 2",
   "language": "python",
   "name": "python2"
  },
  "language_info": {
   "codemirror_mode": {
    "name": "ipython",
    "version": 2
   },
   "file_extension": ".py",
   "mimetype": "text/x-python",
   "name": "python",
   "nbconvert_exporter": "python",
   "pygments_lexer": "ipython2",
   "version": "2.7.13"
  }
 },
 "nbformat": 4,
 "nbformat_minor": 2
}
