{
 "cells": [
  {
   "cell_type": "markdown",
   "metadata": {},
   "source": [
    "# MERGING DATAFRAMES TO EXPORT TO R FOR STATISTICAL ANALYSIS"
   ]
  },
  {
   "cell_type": "markdown",
   "metadata": {},
   "source": [
    "In order to perform a statistical anaylsis on the output from some of the datasets explored, I created a dataframe to \n",
    "contain the sum count for each of the twenty wards in Westminster with respect to the identifying issue. As not all \n",
    "dataframes created had exactly twenty wards due to lack of data for the missing wards, I replaced all null enteries with\n",
    "zeros. After the dataframe was created, I exported its contents as a CSV file in order to read in R."
   ]
  },
  {
   "cell_type": "code",
   "execution_count": 25,
   "metadata": {
    "collapsed": true,
    "deletable": true,
    "editable": true
   },
   "outputs": [],
   "source": [
    "#importing modules\n",
    "import pandas as pd\n",
    "import numpy as np\n",
    "import matplotlib.pyplot as plt\n",
    "%matplotlib inline\n",
    "import seaborn as sns\n",
    "import geopandas as gpd\n",
    "import pysal\n",
    "from shapely.geometry import Point\n",
    "from __future__ import division"
   ]
  },
  {
   "cell_type": "markdown",
   "metadata": {},
   "source": [
    "Below are the methods used to read in the saved dataframes from the notebooks in which they were created"
   ]
  },
  {
   "cell_type": "code",
   "execution_count": 26,
   "metadata": {
    "collapsed": true,
    "deletable": true,
    "editable": true
   },
   "outputs": [],
   "source": [
    "#ACORN DATA\n",
    "%store -r grps"
   ]
  },
  {
   "cell_type": "code",
   "execution_count": 27,
   "metadata": {
    "collapsed": false
   },
   "outputs": [],
   "source": [
    "#FOOTFALL DATA\n",
    "%store -r foot_grp"
   ]
  },
  {
   "cell_type": "code",
   "execution_count": 28,
   "metadata": {
    "collapsed": false
   },
   "outputs": [],
   "source": [
    "#PROPERTIES DATA\n",
    "%store -r prop_grp_res\n",
    "%store -r prop_grp_com"
   ]
  },
  {
   "cell_type": "code",
   "execution_count": 29,
   "metadata": {
    "collapsed": false
   },
   "outputs": [],
   "source": [
    "#fines\n",
    "%store -r fine_merge"
   ]
  },
  {
   "cell_type": "code",
   "execution_count": 30,
   "metadata": {
    "collapsed": false
   },
   "outputs": [],
   "source": [
    "#noise\n",
    "%store -r noise_merge"
   ]
  },
  {
   "cell_type": "code",
   "execution_count": 31,
   "metadata": {
    "collapsed": false
   },
   "outputs": [],
   "source": [
    "#license\n",
    "%store -r license_eve_ngt"
   ]
  },
  {
   "cell_type": "code",
   "execution_count": 32,
   "metadata": {
    "collapsed": false
   },
   "outputs": [],
   "source": [
    "#joining all dataframes\n",
    "Westminster_project = pd.concat([grps,foot_grp,prop_grp_res,prop_grp_com,fine_merge,noise_merge,license_eve_ngt], \n",
    "                                axis=1)"
   ]
  },
  {
   "cell_type": "code",
   "execution_count": 35,
   "metadata": {
    "collapsed": false
   },
   "outputs": [],
   "source": [
    "#replacing null enteries with zeros\n",
    "Westminster_project = Westminster_project.fillna(0)"
   ]
  },
  {
   "cell_type": "code",
   "execution_count": 39,
   "metadata": {
    "collapsed": false
   },
   "outputs": [],
   "source": [
    "#resetting index\n",
    "Westminster_project = Westminster_project.reset_index()"
   ]
  },
  {
   "cell_type": "code",
   "execution_count": 42,
   "metadata": {
    "collapsed": false
   },
   "outputs": [],
   "source": [
    "#renaming column\n",
    "Westminster_project = Westminster_project.rename(columns={'index':'Ward'})"
   ]
  },
  {
   "cell_type": "code",
   "execution_count": 51,
   "metadata": {
    "collapsed": false
   },
   "outputs": [
    {
     "data": {
      "text/html": [
       "<div>\n",
       "<table border=\"1\" class=\"dataframe\">\n",
       "  <thead>\n",
       "    <tr style=\"text-align: right;\">\n",
       "      <th></th>\n",
       "      <th>Ward</th>\n",
       "      <th>Healthy</th>\n",
       "      <th>Caution</th>\n",
       "      <th>At_risk</th>\n",
       "      <th>Health_Challenge</th>\n",
       "      <th>Affluent Achiever</th>\n",
       "      <th>Comfortable</th>\n",
       "      <th>Financially_Stretched</th>\n",
       "      <th>Not_Private_House</th>\n",
       "      <th>Rising_Prosperity</th>\n",
       "      <th>Urban_adversity</th>\n",
       "      <th>Evening_footfall</th>\n",
       "      <th>Night_footfall</th>\n",
       "      <th>Residential</th>\n",
       "      <th>Commercial</th>\n",
       "      <th>Evening_fines</th>\n",
       "      <th>Evening_fines</th>\n",
       "      <th>Evening_noise</th>\n",
       "      <th>Night_noise</th>\n",
       "      <th>Total_premises</th>\n",
       "    </tr>\n",
       "  </thead>\n",
       "  <tbody>\n",
       "    <tr>\n",
       "      <th>0</th>\n",
       "      <td>Abbey Road</td>\n",
       "      <td>6700.0</td>\n",
       "      <td>5487.0</td>\n",
       "      <td>95.0</td>\n",
       "      <td>127.0</td>\n",
       "      <td>3677.0</td>\n",
       "      <td>50.0</td>\n",
       "      <td>189.0</td>\n",
       "      <td>38.0</td>\n",
       "      <td>8087.0</td>\n",
       "      <td>406.0</td>\n",
       "      <td>0.0</td>\n",
       "      <td>0.0</td>\n",
       "      <td>6381.0</td>\n",
       "      <td>253.0</td>\n",
       "      <td>1.0</td>\n",
       "      <td>1.0</td>\n",
       "      <td>20.0</td>\n",
       "      <td>82.0</td>\n",
       "      <td>7.0</td>\n",
       "    </tr>\n",
       "  </tbody>\n",
       "</table>\n",
       "</div>"
      ],
      "text/plain": [
       "         Ward  Healthy  Caution  At_risk  Health_Challenge  Affluent Achiever  \\\n",
       "0  Abbey Road   6700.0   5487.0     95.0             127.0             3677.0   \n",
       "\n",
       "   Comfortable  Financially_Stretched  Not_Private_House  Rising_Prosperity  \\\n",
       "0         50.0                  189.0               38.0             8087.0   \n",
       "\n",
       "   Urban_adversity  Evening_footfall  Night_footfall  Residential  Commercial  \\\n",
       "0            406.0               0.0             0.0       6381.0       253.0   \n",
       "\n",
       "   Evening_fines  Evening_fines  Evening_noise  Night_noise  Total_premises  \n",
       "0            1.0            1.0           20.0         82.0             7.0  "
      ]
     },
     "execution_count": 51,
     "metadata": {},
     "output_type": "execute_result"
    }
   ],
   "source": [
    "#checking the contents of the dataframe\n",
    "Westminster_project.head(1)"
   ]
  },
  {
   "cell_type": "code",
   "execution_count": 55,
   "metadata": {
    "collapsed": false
   },
   "outputs": [],
   "source": [
    "#exporting to csv file\n",
    "file_export = Westminster_project.to_csv('/Users/jamessolomon/Desktop/westminster-file/Westminster_project.csv', \n",
    "                                         sep=',', encoding='utf-8')"
   ]
  },
  {
   "cell_type": "code",
   "execution_count": null,
   "metadata": {
    "collapsed": true
   },
   "outputs": [],
   "source": []
  }
 ],
 "metadata": {
  "kernelspec": {
   "display_name": "Python 2",
   "language": "python",
   "name": "python2"
  },
  "language_info": {
   "codemirror_mode": {
    "name": "ipython",
    "version": 2
   },
   "file_extension": ".py",
   "mimetype": "text/x-python",
   "name": "python",
   "nbconvert_exporter": "python",
   "pygments_lexer": "ipython2",
   "version": "2.7.13"
  }
 },
 "nbformat": 4,
 "nbformat_minor": 2
}
